{
  "metadata": {
    "colab": {
      "provenance": []
    },
    "kernelspec": {
      "name": "python3",
      "display_name": "Python 3",
      "language": "python"
    },
    "language_info": {
      "name": "python",
      "version": "3.7.12",
      "mimetype": "text/x-python",
      "codemirror_mode": {
        "name": "ipython",
        "version": 3
      },
      "pygments_lexer": "ipython3",
      "nbconvert_exporter": "python",
      "file_extension": ".py"
    }
  },
  "nbformat_minor": 0,
  "nbformat": 4,
  "cells": [
    {
      "cell_type": "markdown",
      "source": [
        "###Μηχανική Μάθηση \n",
        "####1η ατομική εργασία \n",
        "ΣΗΜΜΥ- ΕΜΠ - 7ο εξάμηνο -Ακ. Έτος 2022-23\n",
        "\n"
      ],
      "metadata": {
        "id": "Dv7UKdyCAnqD"
      }
    },
    {
      "cell_type": "markdown",
      "source": [
        "# ⚠️\n",
        "`Επισημαίνεται ότι απαγορεύεται η ανάρτηση των λύσεων των εργαστηριακών ασκήσεων στο github, ή σε άλλες ιστοσελίδες. Η σχεδίαση και το περιεχόμενο των εργαστηριακών projects αποτελούν αντικείμενο πνευματικής ιδιοκτησίας της διδακτικής ομάδας του μαθήματος.`"
      ],
      "metadata": {
        "id": "hL5bHZx06KZc"
      }
    },
    {
      "cell_type": "markdown",
      "source": [
        " `⚠️  Το σύνολο δεδομένων που σας δόθηκε δεν πρέπει να εμπλουτισθεί με οποιοδήποτε τρόπο. Η εργασία στην οποία θα χρησιμοποιηθεί εμπλουτισμένο σύνολο δεδομένων, δεν θα διορθωθεί.`"
      ],
      "metadata": {
        "id": "vqmQiAojwM3Z"
      }
    },
    {
      "cell_type": "markdown",
      "source": [
        "Ονοματεπώνυμο φοιτητή: Οδυσσεύς Δρυς-Πεντζάκης\n",
        "\n",
        "Α.Μ.: 03119192"
      ],
      "metadata": {
        "id": "oAx-ib_pBrq9"
      }
    },
    {
      "cell_type": "markdown",
      "source": [
        "### 1. Εισαγωγή συνόλου δεδομένων\n",
        "\n",
        "Tο σύνολο δεδομένων για το training-validation μπορείτε να το κατεβάσετε από [εδώ](https://drive.google.com/file/d/1-L7QQEfLWCsqiBClxUlg4yzquf1G_Ga-/view?usp=sharing) και για το testing από [εδώ](https://drive.google.com/file/d/1-6l-NL3wwKGKJpVjxjUrOdFbcnKo-PwW/view?usp=sharing).\n",
        "\n"
      ],
      "metadata": {
        "id": "M7IkqlgaGLr2"
      }
    },
    {
      "cell_type": "markdown",
      "source": [
        "1.α. Φορτώστε το σύνολο δεδομένων \"train-val.csv\"  στο notebook σας."
      ],
      "metadata": {
        "id": "Qe4uFFcv9XF3"
      }
    },
    {
      "cell_type": "code",
      "source": [
        "import pandas as pd\n",
        "train = pd.read_csv(r'train-val.csv')\n"
      ],
      "metadata": {
        "id": "fbQtw6iYBrJk",
        "execution": {
          "iopub.status.busy": "2022-12-11T08:56:33.267572Z",
          "iopub.execute_input": "2022-12-11T08:56:33.268952Z",
          "iopub.status.idle": "2022-12-11T08:56:33.356137Z",
          "shell.execute_reply.started": "2022-12-11T08:56:33.268903Z",
          "shell.execute_reply": "2022-12-11T08:56:33.354903Z"
        },
        "trusted": true
      },
      "execution_count": 3,
      "outputs": []
    },
    {
      "cell_type": "markdown",
      "source": [
        "1.β. Φορτώστε το σύνολο δεδομένων \"test.csv\" στο notebook σας"
      ],
      "metadata": {
        "id": "lSlCmshW9ZfS"
      }
    },
    {
      "cell_type": "code",
      "source": [
        "import pandas as pd\n",
        "test = pd.read_csv(r'test.csv')\n",
        "\n"
      ],
      "metadata": {
        "id": "zRabPOXI9iAi",
        "execution": {
          "iopub.status.busy": "2022-12-11T08:56:33.357773Z",
          "iopub.execute_input": "2022-12-11T08:56:33.358071Z",
          "iopub.status.idle": "2022-12-11T08:56:33.382692Z",
          "shell.execute_reply.started": "2022-12-11T08:56:33.358044Z",
          "shell.execute_reply": "2022-12-11T08:56:33.381569Z"
        },
        "trusted": true
      },
      "execution_count": 4,
      "outputs": []
    },
    {
      "cell_type": "markdown",
      "source": [
        "### 2. Διερευνητική ανάλυση δεδομένων -Exploratory Data Analysis (EDA) \n",
        "Χρησιμοποιήστε code cells  με τις κατάλληλες τεχνικές EDA για την κατανόηση του συνόλου δεδομένων και text cells για επεξήγηση των αποτελεσμάτων. "
      ],
      "metadata": {
        "id": "wrxF1hO1HPpJ"
      }
    },
    {
      "cell_type": "markdown",
      "source": [
        "Χρησιμοποιώντας τις κατάλληλες μεθόδους παρουσιάστε με χρήση κώδικα πληροφορίες για τα εξής:\n",
        "\n",
        "2α. το πλήθος των δειγμάτων και των χαρακτηριστικών του συνόλου δεδομένων, \n",
        "\n",
        "2β. το είδος των χαρακτηριστικών του συνόλου δεδομένων,  \n",
        "\n",
        "2γ. τις ετικέτες των χαρακτηριστικών,\n",
        "\n",
        "2δ. το πλήθος των κατηγοριών, \n",
        "\n",
        "2ε. πόσα δείγματα ανήκουν σε κάθε κατηγορία,\n",
        "\n",
        "2στ. τη συσχέτιση μεταξύ των δεδομένων,\n",
        "\n",
        "2ζ. οποιαδήποτε άλλη πληροφορία πιστεύετε ότι είναι χρήσιμη για την κατανόηση του συνόλου δεδομένων."
      ],
      "metadata": {
        "id": "fT33H0HPJ7Hg"
      }
    },
    {
      "cell_type": "markdown",
      "source": [
        "2α.  Είναι αναμενόμενο το test να έχει λιγότερες στήλες από το train, αφού λείπει η στήλη που θέλουμε να προβλέψει το μοντέλο μας."
      ],
      "metadata": {
        "id": "EY-OU8D87E_h"
      }
    },
    {
      "cell_type": "code",
      "source": [
        "#2a\n",
        "\n",
        "print(test.shape)\n",
        "print(train.shape)\n"
      ],
      "metadata": {
        "id": "dnd0K49PNK1T",
        "execution": {
          "iopub.status.busy": "2022-12-11T08:56:33.384404Z",
          "iopub.execute_input": "2022-12-11T08:56:33.385055Z",
          "iopub.status.idle": "2022-12-11T08:56:33.391719Z",
          "shell.execute_reply.started": "2022-12-11T08:56:33.385020Z",
          "shell.execute_reply": "2022-12-11T08:56:33.390727Z"
        },
        "trusted": true,
        "colab": {
          "base_uri": "https://localhost:8080/"
        },
        "outputId": "0fca3649-dca7-4698-9f92-507db1f62949"
      },
      "execution_count": 3,
      "outputs": [
        {
          "output_type": "stream",
          "name": "stdout",
          "text": [
            "(9679, 23)\n",
            "(48423, 24)\n"
          ]
        }
      ]
    },
    {
      "cell_type": "markdown",
      "source": [
        "2β. Βλέπουμε τους τύπους δεδομένων που έχει κάθε στήλη"
      ],
      "metadata": {
        "id": "qF-hGBit7j2W"
      }
    },
    {
      "cell_type": "code",
      "source": [
        "#2b\n",
        "print (train.dtypes)"
      ],
      "metadata": {
        "execution": {
          "iopub.status.busy": "2022-12-11T08:56:33.394198Z",
          "iopub.execute_input": "2022-12-11T08:56:33.394508Z",
          "iopub.status.idle": "2022-12-11T08:56:33.403028Z",
          "shell.execute_reply.started": "2022-12-11T08:56:33.394483Z",
          "shell.execute_reply": "2022-12-11T08:56:33.401894Z"
        },
        "trusted": true,
        "colab": {
          "base_uri": "https://localhost:8080/"
        },
        "id": "X9Hbqu-8dB6t",
        "outputId": "6275e654-1111-4cad-e533-7849c1fb3000"
      },
      "execution_count": 4,
      "outputs": [
        {
          "output_type": "stream",
          "name": "stdout",
          "text": [
            "id                 int64\n",
            "Date              object\n",
            "Location          object\n",
            "MinTemp          float64\n",
            "MaxTemp          float64\n",
            "Rainfall         float64\n",
            "Evaporation      float64\n",
            "Sunshine         float64\n",
            "WindGustDir       object\n",
            "WindGustSpeed    float64\n",
            "WindDir9am        object\n",
            "WindDir3pm        object\n",
            "WindSpeed9am     float64\n",
            "WindSpeed3pm     float64\n",
            "Humidity9am      float64\n",
            "Humidity3pm      float64\n",
            "Pressure9am      float64\n",
            "Pressure3pm      float64\n",
            "Cloud9am         float64\n",
            "Cloud3pm         float64\n",
            "Temp9am          float64\n",
            "Temp3pm          float64\n",
            "RainToday        float64\n",
            "RainTomorrow     float64\n",
            "dtype: object\n"
          ]
        }
      ]
    },
    {
      "cell_type": "markdown",
      "source": [
        "2γ. Οι ετικέτες του train."
      ],
      "metadata": {
        "id": "7Mke134V7wYk"
      }
    },
    {
      "cell_type": "code",
      "source": [
        "#2c\n",
        "for col in train.columns:\n",
        "    print(col)"
      ],
      "metadata": {
        "execution": {
          "iopub.status.busy": "2022-12-11T08:56:33.404119Z",
          "iopub.execute_input": "2022-12-11T08:56:33.404445Z",
          "iopub.status.idle": "2022-12-11T08:56:33.412861Z",
          "shell.execute_reply.started": "2022-12-11T08:56:33.404408Z",
          "shell.execute_reply": "2022-12-11T08:56:33.411809Z"
        },
        "trusted": true,
        "colab": {
          "base_uri": "https://localhost:8080/"
        },
        "id": "b9pbPNlTdB6t",
        "outputId": "15404d04-4df1-43df-bee2-e80bb98f7e52"
      },
      "execution_count": 5,
      "outputs": [
        {
          "output_type": "stream",
          "name": "stdout",
          "text": [
            "id\n",
            "Date\n",
            "Location\n",
            "MinTemp\n",
            "MaxTemp\n",
            "Rainfall\n",
            "Evaporation\n",
            "Sunshine\n",
            "WindGustDir\n",
            "WindGustSpeed\n",
            "WindDir9am\n",
            "WindDir3pm\n",
            "WindSpeed9am\n",
            "WindSpeed3pm\n",
            "Humidity9am\n",
            "Humidity3pm\n",
            "Pressure9am\n",
            "Pressure3pm\n",
            "Cloud9am\n",
            "Cloud3pm\n",
            "Temp9am\n",
            "Temp3pm\n",
            "RainToday\n",
            "RainTomorrow\n"
          ]
        }
      ]
    },
    {
      "cell_type": "code",
      "source": [
        "2δ. Αφαιρώντας τις τιμές που εμφανίζονται παραπάνω από μια φορά βρίσκουμε το σύνολο μοναδικών τιμών που είναι 2."
      ],
      "metadata": {
        "id": "gnPwJ3QW77rI"
      },
      "execution_count": null,
      "outputs": []
    },
    {
      "cell_type": "code",
      "source": [
        "#2δ. το πλήθος των κατηγοριών\n",
        "len(train.drop_duplicates(subset=['RainTomorrow']))\n",
        "    \n"
      ],
      "metadata": {
        "execution": {
          "iopub.status.busy": "2022-12-11T08:56:33.415516Z",
          "iopub.execute_input": "2022-12-11T08:56:33.416237Z",
          "iopub.status.idle": "2022-12-11T08:56:33.427756Z",
          "shell.execute_reply.started": "2022-12-11T08:56:33.416210Z",
          "shell.execute_reply": "2022-12-11T08:56:33.426362Z"
        },
        "trusted": true,
        "colab": {
          "base_uri": "https://localhost:8080/"
        },
        "id": "wLzZH7dddB6u",
        "outputId": "d5719f2b-7263-4228-b6d2-daf3f1490761"
      },
      "execution_count": 6,
      "outputs": [
        {
          "output_type": "execute_result",
          "data": {
            "text/plain": [
              "2"
            ]
          },
          "metadata": {},
          "execution_count": 6
        }
      ]
    },
    {
      "cell_type": "markdown",
      "source": [
        "2ε. Διατρέχοντας τις τιμές της στήλης RainTomorrow μετράμε το πλήθος των ημερών που υπολογίζεται πως θα βρέξει αύριο."
      ],
      "metadata": {
        "id": "dEPM55LM8VNt"
      }
    },
    {
      "cell_type": "code",
      "source": [
        "#2ε. πόσα δείγματα ανήκουν σε κάθε κατηγορία\n",
        "forecast= train.RainTomorrow\n",
        "rain=0\n",
        "nrain=0\n",
        "for val in forecast:\n",
        "    if val==0.0:\n",
        "        nrain=nrain+1\n",
        "    else:\n",
        "        rain=rain+1\n",
        "print (\"RAINY DAYS:\", rain)\n",
        "print (\"NOT RAINY DAYS:\", nrain)\n",
        "        \n",
        "    \n"
      ],
      "metadata": {
        "execution": {
          "iopub.status.busy": "2022-12-11T08:56:33.429150Z",
          "iopub.execute_input": "2022-12-11T08:56:33.429690Z",
          "iopub.status.idle": "2022-12-11T08:56:33.447367Z",
          "shell.execute_reply.started": "2022-12-11T08:56:33.429656Z",
          "shell.execute_reply": "2022-12-11T08:56:33.446416Z"
        },
        "trusted": true,
        "colab": {
          "base_uri": "https://localhost:8080/"
        },
        "id": "NgiEA8nNdB6u",
        "outputId": "6860ba28-d8da-4ea7-95c5-0748842c1d4b"
      },
      "execution_count": 7,
      "outputs": [
        {
          "output_type": "stream",
          "name": "stdout",
          "text": [
            "RAINY DAYS: 11059\n",
            "NOT RAINY DAYS: 37364\n"
          ]
        }
      ]
    },
    {
      "cell_type": "markdown",
      "source": [
        "2στ. Βρίσκουμε την συσχέτιση μεταξύ των δεδομένων."
      ],
      "metadata": {
        "id": "JQxUDAaa8rwa"
      }
    },
    {
      "cell_type": "code",
      "source": [
        "#2στ. τη συσχέτιση μεταξύ των δεδομένων\n",
        "train.corr()"
      ],
      "metadata": {
        "execution": {
          "iopub.status.busy": "2022-12-11T08:56:33.448813Z",
          "iopub.execute_input": "2022-12-11T08:56:33.449155Z",
          "iopub.status.idle": "2022-12-11T08:56:33.508972Z",
          "shell.execute_reply.started": "2022-12-11T08:56:33.449124Z",
          "shell.execute_reply": "2022-12-11T08:56:33.507788Z"
        },
        "trusted": true,
        "colab": {
          "base_uri": "https://localhost:8080/",
          "height": 701
        },
        "id": "i4498cCudB6u",
        "outputId": "f36c838a-8a9a-4e55-e1d2-0f8d7ae7dd4d"
      },
      "execution_count": 8,
      "outputs": [
        {
          "output_type": "stream",
          "name": "stderr",
          "text": [
            "C:\\Users\\odydr\\AppData\\Local\\Temp\\ipykernel_15956\\1986677268.py:2: FutureWarning: The default value of numeric_only in DataFrame.corr is deprecated. In a future version, it will default to False. Select only valid columns or specify the value of numeric_only to silence this warning.\n",
            "  train.corr()\n"
          ]
        },
        {
          "output_type": "execute_result",
          "data": {
            "text/plain": [
              "                     id   MinTemp   MaxTemp  Rainfall  Evaporation  Sunshine  \\\n",
              "id             1.000000  0.104771  0.136331 -0.024047     0.096221  0.078911   \n",
              "MinTemp        0.104771  1.000000  0.715692  0.096510     0.457483  0.053477   \n",
              "MaxTemp        0.136331  0.715692  1.000000 -0.103864     0.586798  0.469859   \n",
              "Rainfall      -0.024047  0.096510 -0.103864  1.000000    -0.069284 -0.210261   \n",
              "Evaporation    0.096221  0.457483  0.586798 -0.069284     1.000000  0.351482   \n",
              "Sunshine       0.078911  0.053477  0.469859 -0.210261     0.351482  1.000000   \n",
              "WindGustSpeed  0.047488  0.163349  0.013580  0.160382     0.194751 -0.051283   \n",
              "WindSpeed9am   0.062482  0.193476  0.003229  0.102262     0.208774 -0.001514   \n",
              "WindSpeed3pm   0.040819  0.183079  0.054409  0.068231     0.154487  0.055941   \n",
              "Humidity9am   -0.129400 -0.232420 -0.485241  0.217506    -0.521304 -0.471021   \n",
              "Humidity3pm   -0.085483  0.021193 -0.504320  0.258283    -0.392778 -0.634892   \n",
              "Pressure9am   -0.104157 -0.372295 -0.224734 -0.178761    -0.226294  0.078309   \n",
              "Pressure3pm   -0.108251 -0.385832 -0.331614 -0.125762    -0.261228  0.010106   \n",
              "Cloud9am      -0.073085  0.071455 -0.304386  0.202290    -0.188185 -0.693561   \n",
              "Cloud3pm      -0.066481  0.006876 -0.305659  0.162473    -0.193911 -0.708928   \n",
              "Temp9am        0.139226  0.892621  0.881130 -0.007844     0.556079  0.286368   \n",
              "Temp3pm        0.120342  0.682041  0.984609 -0.108617     0.569842  0.492766   \n",
              "RainToday     -0.003840  0.065077 -0.247060  0.527639    -0.191368 -0.314345   \n",
              "RainTomorrow  -0.002691  0.084001 -0.177480  0.244867    -0.122146 -0.437883   \n",
              "\n",
              "               WindGustSpeed  WindSpeed9am  WindSpeed3pm  Humidity9am  \\\n",
              "id                  0.047488      0.062482      0.040819    -0.129400   \n",
              "MinTemp             0.163349      0.193476      0.183079    -0.232420   \n",
              "MaxTemp             0.013580      0.003229      0.054409    -0.485241   \n",
              "Rainfall            0.160382      0.102262      0.068231     0.217506   \n",
              "Evaporation         0.194751      0.208774      0.154487    -0.521304   \n",
              "Sunshine           -0.051283     -0.001514      0.055941    -0.471021   \n",
              "WindGustSpeed       1.000000      0.633542      0.715518    -0.214060   \n",
              "WindSpeed9am        0.633542      1.000000      0.541097    -0.289202   \n",
              "WindSpeed3pm        0.715518      0.541097      1.000000    -0.166434   \n",
              "Humidity9am        -0.214060     -0.289202     -0.166434     1.000000   \n",
              "Humidity3pm         0.004057     -0.019900     -0.003281     0.644709   \n",
              "Pressure9am        -0.485376     -0.266217     -0.327326     0.117477   \n",
              "Pressure3pm        -0.434426     -0.212422     -0.289712     0.167571   \n",
              "Cloud9am            0.086327      0.035081      0.048956     0.439629   \n",
              "Cloud3pm            0.125622      0.066148      0.032267     0.349397   \n",
              "Temp9am             0.123985      0.141875      0.169477    -0.472335   \n",
              "Temp3pm            -0.024427     -0.008063      0.030884    -0.478217   \n",
              "RainToday           0.188300      0.121898      0.097368     0.332583   \n",
              "RainTomorrow        0.258618      0.118477      0.109116     0.244048   \n",
              "\n",
              "               Humidity3pm  Pressure9am  Pressure3pm  Cloud9am  Cloud3pm  \\\n",
              "id               -0.085483    -0.104157    -0.108251 -0.073085 -0.066481   \n",
              "MinTemp           0.021193    -0.372295    -0.385832  0.071455  0.006876   \n",
              "MaxTemp          -0.504320    -0.224734    -0.331614 -0.304386 -0.305659   \n",
              "Rainfall          0.258283    -0.178761    -0.125762  0.202290  0.162473   \n",
              "Evaporation      -0.392778    -0.226294    -0.261228 -0.188185 -0.193911   \n",
              "Sunshine         -0.634892     0.078309     0.010106 -0.693561 -0.708928   \n",
              "WindGustSpeed     0.004057    -0.485376    -0.434426  0.086327  0.125622   \n",
              "WindSpeed9am     -0.019900    -0.266217    -0.212422  0.035081  0.066148   \n",
              "WindSpeed3pm     -0.003281    -0.327326    -0.289712  0.048956  0.032267   \n",
              "Humidity9am       0.644709     0.117477     0.167571  0.439629  0.349397   \n",
              "Humidity3pm       1.000000    -0.063572     0.019297  0.518187  0.536139   \n",
              "Pressure9am      -0.063572     1.000000     0.959218 -0.135572 -0.150569   \n",
              "Pressure3pm       0.019297     0.959218     1.000000 -0.065816 -0.082215   \n",
              "Cloud9am          0.518187    -0.135572    -0.065816  1.000000  0.609241   \n",
              "Cloud3pm          0.536139    -0.150569    -0.082215  0.609241  1.000000   \n",
              "Temp9am          -0.218612    -0.331612    -0.386751 -0.151065 -0.152008   \n",
              "Temp3pm          -0.556450    -0.175755    -0.289701 -0.315585 -0.347408   \n",
              "RainToday         0.375488    -0.216675    -0.121562  0.306448  0.262506   \n",
              "RainTomorrow      0.458234    -0.273063    -0.247978  0.322673  0.381305   \n",
              "\n",
              "                Temp9am   Temp3pm  RainToday  RainTomorrow  \n",
              "id             0.139226  0.120342  -0.003840     -0.002691  \n",
              "MinTemp        0.892621  0.682041   0.065077      0.084001  \n",
              "MaxTemp        0.881130  0.984609  -0.247060     -0.177480  \n",
              "Rainfall      -0.007844 -0.108617   0.527639      0.244867  \n",
              "Evaporation    0.556079  0.569842  -0.191368     -0.122146  \n",
              "Sunshine       0.286368  0.492766  -0.314345     -0.437883  \n",
              "WindGustSpeed  0.123985 -0.024427   0.188300      0.258618  \n",
              "WindSpeed9am   0.141875 -0.008063   0.121898      0.118477  \n",
              "WindSpeed3pm   0.169477  0.030884   0.097368      0.109116  \n",
              "Humidity9am   -0.472335 -0.478217   0.332583      0.244048  \n",
              "Humidity3pm   -0.218612 -0.556450   0.375488      0.458234  \n",
              "Pressure9am   -0.331612 -0.175755  -0.216675     -0.273063  \n",
              "Pressure3pm   -0.386751 -0.289701  -0.121562     -0.247978  \n",
              "Cloud9am      -0.151065 -0.315585   0.306448      0.322673  \n",
              "Cloud3pm      -0.152008 -0.347408   0.262506      0.381305  \n",
              "Temp9am        1.000000  0.850474  -0.100329     -0.034741  \n",
              "Temp3pm        0.850474  1.000000  -0.253352     -0.211749  \n",
              "RainToday     -0.100329 -0.253352   1.000000      0.314222  \n",
              "RainTomorrow  -0.034741 -0.211749   0.314222      1.000000  "
            ],
            "text/html": [
              "<div>\n",
              "<style scoped>\n",
              "    .dataframe tbody tr th:only-of-type {\n",
              "        vertical-align: middle;\n",
              "    }\n",
              "\n",
              "    .dataframe tbody tr th {\n",
              "        vertical-align: top;\n",
              "    }\n",
              "\n",
              "    .dataframe thead th {\n",
              "        text-align: right;\n",
              "    }\n",
              "</style>\n",
              "<table border=\"1\" class=\"dataframe\">\n",
              "  <thead>\n",
              "    <tr style=\"text-align: right;\">\n",
              "      <th></th>\n",
              "      <th>id</th>\n",
              "      <th>MinTemp</th>\n",
              "      <th>MaxTemp</th>\n",
              "      <th>Rainfall</th>\n",
              "      <th>Evaporation</th>\n",
              "      <th>Sunshine</th>\n",
              "      <th>WindGustSpeed</th>\n",
              "      <th>WindSpeed9am</th>\n",
              "      <th>WindSpeed3pm</th>\n",
              "      <th>Humidity9am</th>\n",
              "      <th>Humidity3pm</th>\n",
              "      <th>Pressure9am</th>\n",
              "      <th>Pressure3pm</th>\n",
              "      <th>Cloud9am</th>\n",
              "      <th>Cloud3pm</th>\n",
              "      <th>Temp9am</th>\n",
              "      <th>Temp3pm</th>\n",
              "      <th>RainToday</th>\n",
              "      <th>RainTomorrow</th>\n",
              "    </tr>\n",
              "  </thead>\n",
              "  <tbody>\n",
              "    <tr>\n",
              "      <th>id</th>\n",
              "      <td>1.000000</td>\n",
              "      <td>0.104771</td>\n",
              "      <td>0.136331</td>\n",
              "      <td>-0.024047</td>\n",
              "      <td>0.096221</td>\n",
              "      <td>0.078911</td>\n",
              "      <td>0.047488</td>\n",
              "      <td>0.062482</td>\n",
              "      <td>0.040819</td>\n",
              "      <td>-0.129400</td>\n",
              "      <td>-0.085483</td>\n",
              "      <td>-0.104157</td>\n",
              "      <td>-0.108251</td>\n",
              "      <td>-0.073085</td>\n",
              "      <td>-0.066481</td>\n",
              "      <td>0.139226</td>\n",
              "      <td>0.120342</td>\n",
              "      <td>-0.003840</td>\n",
              "      <td>-0.002691</td>\n",
              "    </tr>\n",
              "    <tr>\n",
              "      <th>MinTemp</th>\n",
              "      <td>0.104771</td>\n",
              "      <td>1.000000</td>\n",
              "      <td>0.715692</td>\n",
              "      <td>0.096510</td>\n",
              "      <td>0.457483</td>\n",
              "      <td>0.053477</td>\n",
              "      <td>0.163349</td>\n",
              "      <td>0.193476</td>\n",
              "      <td>0.183079</td>\n",
              "      <td>-0.232420</td>\n",
              "      <td>0.021193</td>\n",
              "      <td>-0.372295</td>\n",
              "      <td>-0.385832</td>\n",
              "      <td>0.071455</td>\n",
              "      <td>0.006876</td>\n",
              "      <td>0.892621</td>\n",
              "      <td>0.682041</td>\n",
              "      <td>0.065077</td>\n",
              "      <td>0.084001</td>\n",
              "    </tr>\n",
              "    <tr>\n",
              "      <th>MaxTemp</th>\n",
              "      <td>0.136331</td>\n",
              "      <td>0.715692</td>\n",
              "      <td>1.000000</td>\n",
              "      <td>-0.103864</td>\n",
              "      <td>0.586798</td>\n",
              "      <td>0.469859</td>\n",
              "      <td>0.013580</td>\n",
              "      <td>0.003229</td>\n",
              "      <td>0.054409</td>\n",
              "      <td>-0.485241</td>\n",
              "      <td>-0.504320</td>\n",
              "      <td>-0.224734</td>\n",
              "      <td>-0.331614</td>\n",
              "      <td>-0.304386</td>\n",
              "      <td>-0.305659</td>\n",
              "      <td>0.881130</td>\n",
              "      <td>0.984609</td>\n",
              "      <td>-0.247060</td>\n",
              "      <td>-0.177480</td>\n",
              "    </tr>\n",
              "    <tr>\n",
              "      <th>Rainfall</th>\n",
              "      <td>-0.024047</td>\n",
              "      <td>0.096510</td>\n",
              "      <td>-0.103864</td>\n",
              "      <td>1.000000</td>\n",
              "      <td>-0.069284</td>\n",
              "      <td>-0.210261</td>\n",
              "      <td>0.160382</td>\n",
              "      <td>0.102262</td>\n",
              "      <td>0.068231</td>\n",
              "      <td>0.217506</td>\n",
              "      <td>0.258283</td>\n",
              "      <td>-0.178761</td>\n",
              "      <td>-0.125762</td>\n",
              "      <td>0.202290</td>\n",
              "      <td>0.162473</td>\n",
              "      <td>-0.007844</td>\n",
              "      <td>-0.108617</td>\n",
              "      <td>0.527639</td>\n",
              "      <td>0.244867</td>\n",
              "    </tr>\n",
              "    <tr>\n",
              "      <th>Evaporation</th>\n",
              "      <td>0.096221</td>\n",
              "      <td>0.457483</td>\n",
              "      <td>0.586798</td>\n",
              "      <td>-0.069284</td>\n",
              "      <td>1.000000</td>\n",
              "      <td>0.351482</td>\n",
              "      <td>0.194751</td>\n",
              "      <td>0.208774</td>\n",
              "      <td>0.154487</td>\n",
              "      <td>-0.521304</td>\n",
              "      <td>-0.392778</td>\n",
              "      <td>-0.226294</td>\n",
              "      <td>-0.261228</td>\n",
              "      <td>-0.188185</td>\n",
              "      <td>-0.193911</td>\n",
              "      <td>0.556079</td>\n",
              "      <td>0.569842</td>\n",
              "      <td>-0.191368</td>\n",
              "      <td>-0.122146</td>\n",
              "    </tr>\n",
              "    <tr>\n",
              "      <th>Sunshine</th>\n",
              "      <td>0.078911</td>\n",
              "      <td>0.053477</td>\n",
              "      <td>0.469859</td>\n",
              "      <td>-0.210261</td>\n",
              "      <td>0.351482</td>\n",
              "      <td>1.000000</td>\n",
              "      <td>-0.051283</td>\n",
              "      <td>-0.001514</td>\n",
              "      <td>0.055941</td>\n",
              "      <td>-0.471021</td>\n",
              "      <td>-0.634892</td>\n",
              "      <td>0.078309</td>\n",
              "      <td>0.010106</td>\n",
              "      <td>-0.693561</td>\n",
              "      <td>-0.708928</td>\n",
              "      <td>0.286368</td>\n",
              "      <td>0.492766</td>\n",
              "      <td>-0.314345</td>\n",
              "      <td>-0.437883</td>\n",
              "    </tr>\n",
              "    <tr>\n",
              "      <th>WindGustSpeed</th>\n",
              "      <td>0.047488</td>\n",
              "      <td>0.163349</td>\n",
              "      <td>0.013580</td>\n",
              "      <td>0.160382</td>\n",
              "      <td>0.194751</td>\n",
              "      <td>-0.051283</td>\n",
              "      <td>1.000000</td>\n",
              "      <td>0.633542</td>\n",
              "      <td>0.715518</td>\n",
              "      <td>-0.214060</td>\n",
              "      <td>0.004057</td>\n",
              "      <td>-0.485376</td>\n",
              "      <td>-0.434426</td>\n",
              "      <td>0.086327</td>\n",
              "      <td>0.125622</td>\n",
              "      <td>0.123985</td>\n",
              "      <td>-0.024427</td>\n",
              "      <td>0.188300</td>\n",
              "      <td>0.258618</td>\n",
              "    </tr>\n",
              "    <tr>\n",
              "      <th>WindSpeed9am</th>\n",
              "      <td>0.062482</td>\n",
              "      <td>0.193476</td>\n",
              "      <td>0.003229</td>\n",
              "      <td>0.102262</td>\n",
              "      <td>0.208774</td>\n",
              "      <td>-0.001514</td>\n",
              "      <td>0.633542</td>\n",
              "      <td>1.000000</td>\n",
              "      <td>0.541097</td>\n",
              "      <td>-0.289202</td>\n",
              "      <td>-0.019900</td>\n",
              "      <td>-0.266217</td>\n",
              "      <td>-0.212422</td>\n",
              "      <td>0.035081</td>\n",
              "      <td>0.066148</td>\n",
              "      <td>0.141875</td>\n",
              "      <td>-0.008063</td>\n",
              "      <td>0.121898</td>\n",
              "      <td>0.118477</td>\n",
              "    </tr>\n",
              "    <tr>\n",
              "      <th>WindSpeed3pm</th>\n",
              "      <td>0.040819</td>\n",
              "      <td>0.183079</td>\n",
              "      <td>0.054409</td>\n",
              "      <td>0.068231</td>\n",
              "      <td>0.154487</td>\n",
              "      <td>0.055941</td>\n",
              "      <td>0.715518</td>\n",
              "      <td>0.541097</td>\n",
              "      <td>1.000000</td>\n",
              "      <td>-0.166434</td>\n",
              "      <td>-0.003281</td>\n",
              "      <td>-0.327326</td>\n",
              "      <td>-0.289712</td>\n",
              "      <td>0.048956</td>\n",
              "      <td>0.032267</td>\n",
              "      <td>0.169477</td>\n",
              "      <td>0.030884</td>\n",
              "      <td>0.097368</td>\n",
              "      <td>0.109116</td>\n",
              "    </tr>\n",
              "    <tr>\n",
              "      <th>Humidity9am</th>\n",
              "      <td>-0.129400</td>\n",
              "      <td>-0.232420</td>\n",
              "      <td>-0.485241</td>\n",
              "      <td>0.217506</td>\n",
              "      <td>-0.521304</td>\n",
              "      <td>-0.471021</td>\n",
              "      <td>-0.214060</td>\n",
              "      <td>-0.289202</td>\n",
              "      <td>-0.166434</td>\n",
              "      <td>1.000000</td>\n",
              "      <td>0.644709</td>\n",
              "      <td>0.117477</td>\n",
              "      <td>0.167571</td>\n",
              "      <td>0.439629</td>\n",
              "      <td>0.349397</td>\n",
              "      <td>-0.472335</td>\n",
              "      <td>-0.478217</td>\n",
              "      <td>0.332583</td>\n",
              "      <td>0.244048</td>\n",
              "    </tr>\n",
              "    <tr>\n",
              "      <th>Humidity3pm</th>\n",
              "      <td>-0.085483</td>\n",
              "      <td>0.021193</td>\n",
              "      <td>-0.504320</td>\n",
              "      <td>0.258283</td>\n",
              "      <td>-0.392778</td>\n",
              "      <td>-0.634892</td>\n",
              "      <td>0.004057</td>\n",
              "      <td>-0.019900</td>\n",
              "      <td>-0.003281</td>\n",
              "      <td>0.644709</td>\n",
              "      <td>1.000000</td>\n",
              "      <td>-0.063572</td>\n",
              "      <td>0.019297</td>\n",
              "      <td>0.518187</td>\n",
              "      <td>0.536139</td>\n",
              "      <td>-0.218612</td>\n",
              "      <td>-0.556450</td>\n",
              "      <td>0.375488</td>\n",
              "      <td>0.458234</td>\n",
              "    </tr>\n",
              "    <tr>\n",
              "      <th>Pressure9am</th>\n",
              "      <td>-0.104157</td>\n",
              "      <td>-0.372295</td>\n",
              "      <td>-0.224734</td>\n",
              "      <td>-0.178761</td>\n",
              "      <td>-0.226294</td>\n",
              "      <td>0.078309</td>\n",
              "      <td>-0.485376</td>\n",
              "      <td>-0.266217</td>\n",
              "      <td>-0.327326</td>\n",
              "      <td>0.117477</td>\n",
              "      <td>-0.063572</td>\n",
              "      <td>1.000000</td>\n",
              "      <td>0.959218</td>\n",
              "      <td>-0.135572</td>\n",
              "      <td>-0.150569</td>\n",
              "      <td>-0.331612</td>\n",
              "      <td>-0.175755</td>\n",
              "      <td>-0.216675</td>\n",
              "      <td>-0.273063</td>\n",
              "    </tr>\n",
              "    <tr>\n",
              "      <th>Pressure3pm</th>\n",
              "      <td>-0.108251</td>\n",
              "      <td>-0.385832</td>\n",
              "      <td>-0.331614</td>\n",
              "      <td>-0.125762</td>\n",
              "      <td>-0.261228</td>\n",
              "      <td>0.010106</td>\n",
              "      <td>-0.434426</td>\n",
              "      <td>-0.212422</td>\n",
              "      <td>-0.289712</td>\n",
              "      <td>0.167571</td>\n",
              "      <td>0.019297</td>\n",
              "      <td>0.959218</td>\n",
              "      <td>1.000000</td>\n",
              "      <td>-0.065816</td>\n",
              "      <td>-0.082215</td>\n",
              "      <td>-0.386751</td>\n",
              "      <td>-0.289701</td>\n",
              "      <td>-0.121562</td>\n",
              "      <td>-0.247978</td>\n",
              "    </tr>\n",
              "    <tr>\n",
              "      <th>Cloud9am</th>\n",
              "      <td>-0.073085</td>\n",
              "      <td>0.071455</td>\n",
              "      <td>-0.304386</td>\n",
              "      <td>0.202290</td>\n",
              "      <td>-0.188185</td>\n",
              "      <td>-0.693561</td>\n",
              "      <td>0.086327</td>\n",
              "      <td>0.035081</td>\n",
              "      <td>0.048956</td>\n",
              "      <td>0.439629</td>\n",
              "      <td>0.518187</td>\n",
              "      <td>-0.135572</td>\n",
              "      <td>-0.065816</td>\n",
              "      <td>1.000000</td>\n",
              "      <td>0.609241</td>\n",
              "      <td>-0.151065</td>\n",
              "      <td>-0.315585</td>\n",
              "      <td>0.306448</td>\n",
              "      <td>0.322673</td>\n",
              "    </tr>\n",
              "    <tr>\n",
              "      <th>Cloud3pm</th>\n",
              "      <td>-0.066481</td>\n",
              "      <td>0.006876</td>\n",
              "      <td>-0.305659</td>\n",
              "      <td>0.162473</td>\n",
              "      <td>-0.193911</td>\n",
              "      <td>-0.708928</td>\n",
              "      <td>0.125622</td>\n",
              "      <td>0.066148</td>\n",
              "      <td>0.032267</td>\n",
              "      <td>0.349397</td>\n",
              "      <td>0.536139</td>\n",
              "      <td>-0.150569</td>\n",
              "      <td>-0.082215</td>\n",
              "      <td>0.609241</td>\n",
              "      <td>1.000000</td>\n",
              "      <td>-0.152008</td>\n",
              "      <td>-0.347408</td>\n",
              "      <td>0.262506</td>\n",
              "      <td>0.381305</td>\n",
              "    </tr>\n",
              "    <tr>\n",
              "      <th>Temp9am</th>\n",
              "      <td>0.139226</td>\n",
              "      <td>0.892621</td>\n",
              "      <td>0.881130</td>\n",
              "      <td>-0.007844</td>\n",
              "      <td>0.556079</td>\n",
              "      <td>0.286368</td>\n",
              "      <td>0.123985</td>\n",
              "      <td>0.141875</td>\n",
              "      <td>0.169477</td>\n",
              "      <td>-0.472335</td>\n",
              "      <td>-0.218612</td>\n",
              "      <td>-0.331612</td>\n",
              "      <td>-0.386751</td>\n",
              "      <td>-0.151065</td>\n",
              "      <td>-0.152008</td>\n",
              "      <td>1.000000</td>\n",
              "      <td>0.850474</td>\n",
              "      <td>-0.100329</td>\n",
              "      <td>-0.034741</td>\n",
              "    </tr>\n",
              "    <tr>\n",
              "      <th>Temp3pm</th>\n",
              "      <td>0.120342</td>\n",
              "      <td>0.682041</td>\n",
              "      <td>0.984609</td>\n",
              "      <td>-0.108617</td>\n",
              "      <td>0.569842</td>\n",
              "      <td>0.492766</td>\n",
              "      <td>-0.024427</td>\n",
              "      <td>-0.008063</td>\n",
              "      <td>0.030884</td>\n",
              "      <td>-0.478217</td>\n",
              "      <td>-0.556450</td>\n",
              "      <td>-0.175755</td>\n",
              "      <td>-0.289701</td>\n",
              "      <td>-0.315585</td>\n",
              "      <td>-0.347408</td>\n",
              "      <td>0.850474</td>\n",
              "      <td>1.000000</td>\n",
              "      <td>-0.253352</td>\n",
              "      <td>-0.211749</td>\n",
              "    </tr>\n",
              "    <tr>\n",
              "      <th>RainToday</th>\n",
              "      <td>-0.003840</td>\n",
              "      <td>0.065077</td>\n",
              "      <td>-0.247060</td>\n",
              "      <td>0.527639</td>\n",
              "      <td>-0.191368</td>\n",
              "      <td>-0.314345</td>\n",
              "      <td>0.188300</td>\n",
              "      <td>0.121898</td>\n",
              "      <td>0.097368</td>\n",
              "      <td>0.332583</td>\n",
              "      <td>0.375488</td>\n",
              "      <td>-0.216675</td>\n",
              "      <td>-0.121562</td>\n",
              "      <td>0.306448</td>\n",
              "      <td>0.262506</td>\n",
              "      <td>-0.100329</td>\n",
              "      <td>-0.253352</td>\n",
              "      <td>1.000000</td>\n",
              "      <td>0.314222</td>\n",
              "    </tr>\n",
              "    <tr>\n",
              "      <th>RainTomorrow</th>\n",
              "      <td>-0.002691</td>\n",
              "      <td>0.084001</td>\n",
              "      <td>-0.177480</td>\n",
              "      <td>0.244867</td>\n",
              "      <td>-0.122146</td>\n",
              "      <td>-0.437883</td>\n",
              "      <td>0.258618</td>\n",
              "      <td>0.118477</td>\n",
              "      <td>0.109116</td>\n",
              "      <td>0.244048</td>\n",
              "      <td>0.458234</td>\n",
              "      <td>-0.273063</td>\n",
              "      <td>-0.247978</td>\n",
              "      <td>0.322673</td>\n",
              "      <td>0.381305</td>\n",
              "      <td>-0.034741</td>\n",
              "      <td>-0.211749</td>\n",
              "      <td>0.314222</td>\n",
              "      <td>1.000000</td>\n",
              "    </tr>\n",
              "  </tbody>\n",
              "</table>\n",
              "</div>"
            ]
          },
          "metadata": {},
          "execution_count": 8
        }
      ]
    },
    {
      "cell_type": "markdown",
      "source": [
        "### 3. Προεπεξεργασία συνόλου δεδομένων\n",
        "💡`Χρησιμοποιήστε το Column Transformer για τη δημιουργία και την εφαρμογή χωριστών μετασχηματιστών για αριθμητικά και κατηγορικά δεδομένα.`\n",
        "\n",
        "\n"
      ],
      "metadata": {
        "id": "EbK3in0hNMeI"
      }
    },
    {
      "cell_type": "code",
      "source": [
        "from sklearn.compose import ColumnTransformer\n",
        "from sklearn.impute import SimpleImputer\n",
        "from sklearn.preprocessing import OneHotEncoder\n",
        "from sklearn.preprocessing import MinMaxScaler\n",
        "from sklearn.preprocessing import StandardScaler\n",
        "from sklearn.pipeline import Pipeline\n",
        "from sklearn.feature_selection import SelectKBest,chi2"
      ],
      "metadata": {
        "execution": {
          "iopub.status.busy": "2022-12-11T09:06:01.330765Z",
          "iopub.execute_input": "2022-12-11T09:06:01.331156Z",
          "iopub.status.idle": "2022-12-11T09:06:01.336536Z",
          "shell.execute_reply.started": "2022-12-11T09:06:01.331123Z",
          "shell.execute_reply": "2022-12-11T09:06:01.335736Z"
        },
        "trusted": true,
        "id": "rR-874pQdB6v"
      },
      "execution_count": 5,
      "outputs": []
    },
    {
      "cell_type": "markdown",
      "source": [
        "Χωρίζουμε τα δεδομένα μας σε κατηγορικά και νουμερικά."
      ],
      "metadata": {
        "id": "gVGiXHYi84LJ"
      }
    },
    {
      "cell_type": "code",
      "source": [
        "numeric_features = ['RainToday','Temp3pm','Temp9am','Cloud3pm','Cloud9am','Pressure3pm',\n",
        "                   'Pressure9am','Humidity3pm','Humidity9am','WindSpeed3pm','WindSpeed9am','WindGustSpeed',\n",
        "                   'Sunshine','Evaporation','Rainfall','MaxTemp','MinTemp',]\n",
        "categorical_features = ['WindGustDir','WindDir9am','WindDir3pm','Location']\n"
      ],
      "metadata": {
        "execution": {
          "iopub.status.busy": "2022-12-11T08:56:33.520581Z",
          "iopub.execute_input": "2022-12-11T08:56:33.520943Z",
          "iopub.status.idle": "2022-12-11T08:56:33.528141Z",
          "shell.execute_reply.started": "2022-12-11T08:56:33.520910Z",
          "shell.execute_reply": "2022-12-11T08:56:33.527255Z"
        },
        "trusted": true,
        "id": "uL61EPlQdB6v"
      },
      "execution_count": 6,
      "outputs": []
    },
    {
      "cell_type": "markdown",
      "source": [
        "3.α.  Θα χρησιμοποιήσετε όλα τα χαρακτηριστικά του συνόλου δεδομένων για την εκπαίδευση των ταξινομητών ή θα επιλέξετε κάποια από αυτά;  Θα κάνετε κάποια συνένωση κάποιων χαρακτηριστικών για δημιουργία νέων χαρακτηριστικών για το μοντέλο σας; \n"
      ],
      "metadata": {
        "id": "mKsQVCnLQZ30"
      }
    },
    {
      "cell_type": "code",
      "source": [
        "%matplotlib inline\n",
        "import pandas as pd\n",
        "corr=train.corr()\n",
        "import seaborn as sns\n",
        "sns.heatmap(corr, annot = True)\n",
        "train.drop(['id','Date'], axis=1, inplace=True)\n"
      ],
      "metadata": {
        "id": "Eqb25dcKNMvg",
        "execution": {
          "iopub.status.busy": "2022-12-11T08:56:33.529147Z",
          "iopub.execute_input": "2022-12-11T08:56:33.529414Z",
          "iopub.status.idle": "2022-12-11T08:56:35.076126Z",
          "shell.execute_reply.started": "2022-12-11T08:56:33.529391Z",
          "shell.execute_reply": "2022-12-11T08:56:35.075237Z"
        },
        "trusted": true,
        "colab": {
          "base_uri": "https://localhost:8080/",
          "height": 532
        },
        "outputId": "261e1606-e7a1-4c6f-d417-51865f7ba617"
      },
      "execution_count": 7,
      "outputs": [
        {
          "output_type": "display_data",
          "data": {
            "text/plain": [
              "<Figure size 640x480 with 2 Axes>"
            ],
            "image/png": "[encoded data removed]"
          },
          "metadata": {}
        }
      ]
    },
    {
      "cell_type": "markdown",
      "source": [
        "Παρατηρούμε πως το id και το Date δεν μας χρησιμεύουν πολύ, για αυτό και τα βγάζουμε."
      ],
      "metadata": {
        "id": "Dt1j7tPJ9xLg"
      }
    },
    {
      "cell_type": "markdown",
      "source": [
        "3.β. Υπάρχουν απουσιάζουσες τιμές; Γράψτε κατάλληλο κώδικα ώστε να χειριστείτε αυτές τις τιμές."
      ],
      "metadata": {
        "id": "GPCa3SklNmBe"
      }
    },
    {
      "cell_type": "markdown",
      "source": [
        " Βλέπουμε πως υπάρχουν απουσιάζουσες τιμές.\n",
        " Θα χρησιμοποιήσουμε το SimpleImputer για να τις γεμίσουμε, στα νουμερικά δεδομένα χωρίς τιμή θα βάλουμε τον μέσο όρο της στήλης στην οποία βρίσκεται και στα κατηγορικά δεδομένα θα βάλουμε την πιο συχνή απάντηση."
      ],
      "metadata": {
        "id": "-_d33MY0-nMd"
      }
    },
    {
      "cell_type": "code",
      "source": [
        "train.isnull().sum()"
      ],
      "metadata": {
        "colab": {
          "base_uri": "https://localhost:8080/"
        },
        "id": "CKNgKUKzlcMg",
        "outputId": "582b3f63-638c-4502-c64a-2180b23ab658"
      },
      "execution_count": 8,
      "outputs": [
        {
          "output_type": "execute_result",
          "data": {
            "text/plain": [
              "Location             0\n",
              "MinTemp            160\n",
              "MaxTemp            101\n",
              "Rainfall             0\n",
              "Evaporation      20384\n",
              "Sunshine         22997\n",
              "WindGustDir       3121\n",
              "WindGustSpeed     3093\n",
              "WindDir9am        3821\n",
              "WindDir3pm        1328\n",
              "WindSpeed9am       357\n",
              "WindSpeed3pm       857\n",
              "Humidity9am        558\n",
              "Humidity3pm       1259\n",
              "Pressure9am       4780\n",
              "Pressure3pm       4789\n",
              "Cloud9am         17890\n",
              "Cloud3pm         18981\n",
              "Temp9am            226\n",
              "Temp3pm            913\n",
              "RainToday            0\n",
              "RainTomorrow         0\n",
              "dtype: int64"
            ]
          },
          "metadata": {},
          "execution_count": 8
        }
      ]
    },
    {
      "cell_type": "markdown",
      "source": [
        "3.γ. Γράψτε κώδικα για την κατάλληλη μετατροπή των κατηγορικών μεταβλητών ώστε να μπορούν να τους διαχειριστούν οι ταξινομητές που θα χρησιμοποιήσετε."
      ],
      "metadata": {
        "id": "ZRq1eHYfNoEO"
      }
    },
    {
      "cell_type": "markdown",
      "source": [
        "Θα χρησιμοποιήσουμε το OneHotEncoder για την κατάλληλη μετατροπή των κατηγορικών μεταβλητών."
      ],
      "metadata": {
        "id": "cU7iMFZH-0cG"
      }
    },
    {
      "cell_type": "code",
      "source": [
        "categorical_transformer = Pipeline(steps=[\n",
        "    ('imputer', SimpleImputer(strategy='most_frequent')),\n",
        "    ('scaler', OneHotEncoder(sparse=False, handle_unknown='ignore'))])"
      ],
      "metadata": {
        "execution": {
          "iopub.status.busy": "2022-12-11T08:56:35.077277Z",
          "iopub.execute_input": "2022-12-11T08:56:35.077589Z",
          "iopub.status.idle": "2022-12-11T08:56:35.083728Z",
          "shell.execute_reply.started": "2022-12-11T08:56:35.077561Z",
          "shell.execute_reply": "2022-12-11T08:56:35.082396Z"
        },
        "trusted": true,
        "id": "kNCrx7ZydB6w"
      },
      "execution_count": 8,
      "outputs": []
    },
    {
      "cell_type": "markdown",
      "source": [
        "3.δ. Γράψτε κώδικα για την κλιμάκωση των χαρακτηριστικών, αν την θεωρείτε απαραίτητη"
      ],
      "metadata": {
        "id": "KWsb4KQmQiFc"
      }
    },
    {
      "cell_type": "markdown",
      "source": [
        "Θα χρησιμοποιήσουμε το StandardScaler για την κατάλληλη κλιμάκωση των νουμερικών μεταβλητών."
      ],
      "metadata": {
        "id": "cg8_5C9I_N83"
      }
    },
    {
      "cell_type": "code",
      "source": [
        "numeric_transformer = Pipeline(steps=[\n",
        "    ('imputer', SimpleImputer(strategy='mean')),\n",
        "    ('scaler', StandardScaler())])"
      ],
      "metadata": {
        "execution": {
          "iopub.status.busy": "2022-12-11T08:56:35.084870Z",
          "iopub.execute_input": "2022-12-11T08:56:35.085864Z",
          "iopub.status.idle": "2022-12-11T08:56:35.095882Z",
          "shell.execute_reply.started": "2022-12-11T08:56:35.085804Z",
          "shell.execute_reply": "2022-12-11T08:56:35.094582Z"
        },
        "trusted": true,
        "id": "mDrmfFCFdB6x"
      },
      "execution_count": 9,
      "outputs": []
    },
    {
      "cell_type": "markdown",
      "source": [
        "3.ε. Εκτελέστε όλα τα προηγούμενα βήμα προεκπαίδευσης (χρήση μετασχηματιστών) ώστε να είναι \"καθαρό\" το αρχικό σύνολο για να χρησιμοποιηθεί για την εκπαίδευση των ταξινομητών."
      ],
      "metadata": {
        "id": "_S2tynpfhaOu"
      }
    },
    {
      "cell_type": "markdown",
      "source": [
        "Σε ColumnTransformer βάζουμε τους transformers που ανάλογα την στήλη στην οποία βρiσκόμαστε μετατρέπουν κατάλληλα τα δεδομένα."
      ],
      "metadata": {
        "id": "hwgLz_pc_Ywe"
      }
    },
    {
      "cell_type": "code",
      "source": [
        "\n",
        "preprocessor = ColumnTransformer(\n",
        "    transformers=[\n",
        "        ('num', numeric_transformer, numeric_features),\n",
        "        ('cat', categorical_transformer, categorical_features)])\n"
      ],
      "metadata": {
        "execution": {
          "iopub.status.busy": "2022-12-11T09:09:16.880424Z",
          "iopub.execute_input": "2022-12-11T09:09:16.880810Z",
          "iopub.status.idle": "2022-12-11T09:09:16.948470Z",
          "shell.execute_reply.started": "2022-12-11T09:09:16.880775Z",
          "shell.execute_reply": "2022-12-11T09:09:16.946902Z"
        },
        "trusted": true,
        "id": "6XjN7NNLdB6x"
      },
      "execution_count": 10,
      "outputs": []
    },
    {
      "cell_type": "markdown",
      "source": [
        "3.στ. Αφού έχετε \"καθαρίσει\" το αρχικό σύνολο εκπαίδευσης, γράψτε τον κατάλληλο κώδικα ώστε από το αρχικό σύνολο εκπαίδευσης να δημιουργήσετε τα σύνολα Χ και y.\n",
        "\n",
        "💡 `Η στήλη 'RainTomorrow' είναι η τιμή που θέλουμε να προβλέψει ο ταξινομητής μας.` \n",
        "\n"
      ],
      "metadata": {
        "id": "OeD8amKKLJFr"
      }
    },
    {
      "cell_type": "code",
      "source": [
        "X= train.drop(['RainTomorrow'], axis=1)\n",
        "y=train['RainTomorrow']\n",
        "X=preprocessor.fit_transform(X)\n"
      ],
      "metadata": {
        "id": "FysfIb93LJxS",
        "execution": {
          "iopub.status.busy": "2022-12-11T08:56:35.111217Z",
          "iopub.execute_input": "2022-12-11T08:56:35.111737Z",
          "iopub.status.idle": "2022-12-11T08:56:35.124689Z",
          "shell.execute_reply.started": "2022-12-11T08:56:35.111701Z",
          "shell.execute_reply": "2022-12-11T08:56:35.123371Z"
        },
        "trusted": true
      },
      "execution_count": 11,
      "outputs": []
    },
    {
      "cell_type": "markdown",
      "source": [
        "Αφου διαχωρίσουμε το train σε Χ και y κάνουμε fit_transform το Χ με τον preprocessor που φτιάξαμε"
      ],
      "metadata": {
        "id": "qwjZ0L1SBj_I"
      }
    },
    {
      "cell_type": "markdown",
      "source": [
        "3.ζ. Διαχωρίστε το σύνολο δεδομένων σε σύνολο εκπαίδευσης (train set) και σε σύνολο επικύρωσης (validation set) (ο διαχωρισμός να είναι train set 70% και validation set 30%).\n"
      ],
      "metadata": {
        "id": "8oU_se4UT0JF"
      }
    },
    {
      "cell_type": "code",
      "source": [
        "from sklearn.model_selection import train_test_split\n",
        " \n",
        "RAND_STATE = 42\n",
        "  # Split into training and testing \n",
        "X_train, X_test, y_train, y_test = train_test_split(X, y, test_size=0.3, random_state=RAND_STATE)\n"
      ],
      "metadata": {
        "id": "wcwB_TK1ixvl",
        "execution": {
          "iopub.status.busy": "2022-12-11T08:56:47.264880Z",
          "iopub.execute_input": "2022-12-11T08:56:47.265269Z",
          "iopub.status.idle": "2022-12-11T08:56:47.289285Z",
          "shell.execute_reply.started": "2022-12-11T08:56:47.265237Z",
          "shell.execute_reply": "2022-12-11T08:56:47.288536Z"
        },
        "trusted": true
      },
      "execution_count": 12,
      "outputs": []
    },
    {
      "cell_type": "code",
      "source": [
        "X_train.shape"
      ],
      "metadata": {
        "colab": {
          "base_uri": "https://localhost:8080/"
        },
        "id": "jvlqeDxQmXi0",
        "outputId": "88e760a9-b438-459d-b0fe-5a376df709bb"
      },
      "execution_count": 18,
      "outputs": [
        {
          "output_type": "execute_result",
          "data": {
            "text/plain": [
              "(33896, 114)"
            ]
          },
          "metadata": {},
          "execution_count": 18
        }
      ]
    },
    {
      "cell_type": "markdown",
      "source": [
        "### 4. Εκπαίδευση μοντέλου με default τιμές στις παραμέτρους των ταξινομητών\n",
        "\n",
        "Θα εκπαιδεύσουμε τους ακόλουθους ταξινομητές με το σύνολο εκπαίδευσης των δεδομένων μας: \n",
        "1. Naive Bayes\n",
        "2. KNeighborsClassifier\n",
        "3. LogisticRegression\n",
        "4. MLP με ένα κρυφό επίπεδο\n",
        "5. SVC\n",
        "6. Decision Tree\n",
        "7. Random Forest\n"
      ],
      "metadata": {
        "id": "xhITyhMuSslH"
      }
    },
    {
      "cell_type": "code",
      "source": [
        "\n",
        "from sklearn.linear_model import LogisticRegression\n",
        "from sklearn.neighbors import KNeighborsClassifier\n",
        "from sklearn.svm import SVC\n",
        "from sklearn.ensemble import RandomForestClassifier\n",
        "from sklearn.tree import DecisionTreeClassifier\n",
        "from sklearn.naive_bayes import GaussianNB\n",
        "from sklearn.neural_network import MLPClassifier\n",
        "\n",
        "\n"
      ],
      "metadata": {
        "id": "-r3kEVgkU0OF",
        "execution": {
          "iopub.status.busy": "2022-12-11T08:56:35.155305Z",
          "iopub.execute_input": "2022-12-11T08:56:35.155635Z",
          "iopub.status.idle": "2022-12-11T08:56:35.161958Z",
          "shell.execute_reply.started": "2022-12-11T08:56:35.155604Z",
          "shell.execute_reply": "2022-12-11T08:56:35.160341Z"
        },
        "trusted": true
      },
      "execution_count": 13,
      "outputs": []
    },
    {
      "cell_type": "markdown",
      "source": [
        " 4.α. Εκπαιδεύστε (fit)  και τους  7 ταξινομητές που προαναφέρθηκαν (εμφανίστε τα δείγματα από το train set μαζί με την ετικέτα τους στην είσοδο του κάθε ταξινομητή), χρησιμοποιώντας τις default τιμές για όλες τις παραμέτρους τους."
      ],
      "metadata": {
        "id": "a49EG4Z9U0yD"
      }
    },
    {
      "cell_type": "markdown",
      "source": [
        "Κάνουμε fit με τους 7 ταξινομητές τον πίνακα X και τυπώνουμε το Model Score κάθε ταξινομητή."
      ],
      "metadata": {
        "id": "Nqa5kHj9B0_R"
      }
    },
    {
      "cell_type": "code",
      "source": [
        "# Define the classifier\n",
        "\n",
        "\n",
        "classifierKnn = KNeighborsClassifier()\n",
        "classifierNB=GaussianNB()\n",
        "classifierLogReg=LogisticRegression()\n",
        "classifierMLP=MLPClassifier()\n",
        "classifierSVC=SVC()\n",
        "classifierDTree=DecisionTreeClassifier()\n",
        "classifierRanFor=RandomForestClassifier()\n",
        "\n",
        "\n",
        "classifierKnn.fit(X_train, y_train)\n",
        " \n",
        "# Predict\n",
        "y_predKnn = classifierKnn.predict(X_test)\n",
        " \n",
        "# Evaluate\n",
        "print('Model score: {model.score(X_test, y_test)}')\n",
        " \n",
        "from sklearn.metrics import classification_report \n",
        "# compute the classification report\n",
        "print(classification_report(y_test, y_predKnn))\n",
        "\n",
        "\n",
        "\n",
        " \n"
      ],
      "metadata": {
        "id": "-_kDpm_sWRjs",
        "execution": {
          "iopub.status.busy": "2022-12-11T08:56:35.163679Z",
          "iopub.execute_input": "2022-12-11T08:56:35.164010Z",
          "iopub.status.idle": "2022-12-11T08:56:35.175632Z",
          "shell.execute_reply.started": "2022-12-11T08:56:35.163980Z",
          "shell.execute_reply": "2022-12-11T08:56:35.174487Z"
        },
        "trusted": true,
        "colab": {
          "base_uri": "https://localhost:8080/"
        },
        "outputId": "4d0508b3-1d94-4d1b-cff1-0bcc046bad0e"
      },
      "execution_count": 20,
      "outputs": [
        {
          "output_type": "stream",
          "name": "stdout",
          "text": [
            "Model score: {model.score(X_test, y_test)}\n",
            "              precision    recall  f1-score   support\n",
            "\n",
            "         0.0       0.86      0.93      0.90     11184\n",
            "         1.0       0.68      0.51      0.58      3343\n",
            "\n",
            "    accuracy                           0.83     14527\n",
            "   macro avg       0.77      0.72      0.74     14527\n",
            "weighted avg       0.82      0.83      0.82     14527\n",
            "\n"
          ]
        }
      ]
    },
    {
      "cell_type": "code",
      "source": [
        "\n",
        "# Fit the pipeline\n",
        "classifierNB.fit(X_train, y_train)\n",
        " \n",
        "# Predict\n",
        "y_predNB = classifierNB.predict(X_test)\n",
        " \n",
        "# Evaluate\n",
        "print('Model score: {model.score(X_test, y_test)}')\n",
        " \n",
        "from sklearn.metrics import classification_report \n",
        "# compute the classification report\n",
        "print(classification_report(y_test, y_predNB))\n"
      ],
      "metadata": {
        "execution": {
          "iopub.status.busy": "2022-12-11T08:59:42.180964Z",
          "iopub.execute_input": "2022-12-11T08:59:42.181314Z",
          "iopub.status.idle": "2022-12-11T08:59:42.304496Z",
          "shell.execute_reply.started": "2022-12-11T08:59:42.181286Z",
          "shell.execute_reply": "2022-12-11T08:59:42.303590Z"
        },
        "trusted": true,
        "colab": {
          "base_uri": "https://localhost:8080/"
        },
        "id": "mBRosvNMdB6z",
        "outputId": "06a05088-fdd5-4e86-c7ce-2b172a685b14"
      },
      "execution_count": 21,
      "outputs": [
        {
          "output_type": "stream",
          "name": "stdout",
          "text": [
            "Model score: {model.score(X_test, y_test)}\n",
            "              precision    recall  f1-score   support\n",
            "\n",
            "         0.0       0.88      0.61      0.72     11184\n",
            "         1.0       0.36      0.71      0.47      3343\n",
            "\n",
            "    accuracy                           0.64     14527\n",
            "   macro avg       0.62      0.66      0.60     14527\n",
            "weighted avg       0.76      0.64      0.67     14527\n",
            "\n"
          ]
        }
      ]
    },
    {
      "cell_type": "code",
      "source": [
        "\n",
        "# Fit the pipeline\n",
        "classifierLogReg.fit(X_train, y_train)\n",
        " \n",
        "# Predict\n",
        "y_predLogReg = classifierLogReg.predict(X_test)\n",
        " \n",
        "# Evaluate\n",
        "print('Model score: {model.score(X_test, y_test)}')\n",
        " \n",
        "from sklearn.metrics import classification_report \n",
        "# compute the classification report\n",
        "print(classification_report(y_test, y_predLogReg))"
      ],
      "metadata": {
        "trusted": true,
        "colab": {
          "base_uri": "https://localhost:8080/"
        },
        "id": "AvgZeUb8dB6z",
        "outputId": "36778c74-77d5-46b7-ed0b-ec4cb6e57c66"
      },
      "execution_count": 22,
      "outputs": [
        {
          "output_type": "stream",
          "name": "stdout",
          "text": [
            "Model score: {model.score(X_test, y_test)}\n",
            "              precision    recall  f1-score   support\n",
            "\n",
            "         0.0       0.87      0.95      0.91     11184\n",
            "         1.0       0.75      0.54      0.63      3343\n",
            "\n",
            "    accuracy                           0.85     14527\n",
            "   macro avg       0.81      0.74      0.77     14527\n",
            "weighted avg       0.84      0.85      0.84     14527\n",
            "\n"
          ]
        },
        {
          "output_type": "stream",
          "name": "stderr",
          "text": [
            "C:\\Users\\odydr\\AppData\\Local\\Programs\\Python\\Python310\\lib\\site-packages\\sklearn\\linear_model\\_logistic.py:458: ConvergenceWarning: lbfgs failed to converge (status=1):\n",
            "STOP: TOTAL NO. of ITERATIONS REACHED LIMIT.\n",
            "\n",
            "Increase the number of iterations (max_iter) or scale the data as shown in:\n",
            "    https://scikit-learn.org/stable/modules/preprocessing.html\n",
            "Please also refer to the documentation for alternative solver options:\n",
            "    https://scikit-learn.org/stable/modules/linear_model.html#logistic-regression\n",
            "  n_iter_i = _check_optimize_result(\n"
          ]
        }
      ]
    },
    {
      "cell_type": "code",
      "source": [
        "\n",
        "\n",
        "# Fit the pipeline\n",
        "classifierMLP.fit(X_train, y_train)\n",
        " \n",
        "# Predict\n",
        "y_predMLP = classifierMLP.predict(X_test)\n",
        " \n",
        "# Evaluate\n",
        "print('Model score: {model.score(X_test, y_test)}')\n",
        " \n",
        "from sklearn.metrics import classification_report \n",
        "# compute the classification report\n",
        "print(classification_report(y_test, y_predMLP))"
      ],
      "metadata": {
        "trusted": true,
        "colab": {
          "base_uri": "https://localhost:8080/"
        },
        "id": "kErUqMXpdB6z",
        "outputId": "c12545cc-6bff-43ae-f4e1-cb6997e6adbf"
      },
      "execution_count": 23,
      "outputs": [
        {
          "output_type": "stream",
          "name": "stdout",
          "text": [
            "Model score: {model.score(X_test, y_test)}\n",
            "              precision    recall  f1-score   support\n",
            "\n",
            "         0.0       0.89      0.88      0.89     11184\n",
            "         1.0       0.62      0.64      0.63      3343\n",
            "\n",
            "    accuracy                           0.83     14527\n",
            "   macro avg       0.76      0.76      0.76     14527\n",
            "weighted avg       0.83      0.83      0.83     14527\n",
            "\n"
          ]
        },
        {
          "output_type": "stream",
          "name": "stderr",
          "text": [
            "C:\\Users\\odydr\\AppData\\Local\\Programs\\Python\\Python310\\lib\\site-packages\\sklearn\\neural_network\\_multilayer_perceptron.py:679: ConvergenceWarning: Stochastic Optimizer: Maximum iterations (200) reached and the optimization hasn't converged yet.\n",
            "  warnings.warn(\n"
          ]
        }
      ]
    },
    {
      "cell_type": "code",
      "source": [
        "\n",
        "# Fit the pipeline\n",
        "classifierSVC.fit(X_train, y_train)\n",
        " \n",
        "# Predict\n",
        "y_predSVC = classifierSVC.predict(X_test)\n",
        " \n",
        "# Evaluate\n",
        "print('Model score: {model.score(X_test, y_test)}')\n",
        " \n",
        "from sklearn.metrics import classification_report \n",
        "# compute the classification report\n",
        "print(classification_report(y_test, y_predSVC))\n"
      ],
      "metadata": {
        "execution": {
          "iopub.status.busy": "2022-12-11T08:56:35.302788Z",
          "iopub.status.idle": "2022-12-11T08:56:35.303204Z",
          "shell.execute_reply.started": "2022-12-11T08:56:35.303048Z",
          "shell.execute_reply": "2022-12-11T08:56:35.303065Z"
        },
        "trusted": true,
        "id": "gcPjwKcgdB6z",
        "colab": {
          "base_uri": "https://localhost:8080/"
        },
        "outputId": "859b0ece-95b5-4214-9ce7-ef3917f6ca3e"
      },
      "execution_count": 25,
      "outputs": [
        {
          "output_type": "stream",
          "name": "stdout",
          "text": [
            "Model score: {model.score(X_test, y_test)}\n",
            "              precision    recall  f1-score   support\n",
            "\n",
            "         0.0       0.87      0.96      0.91     11184\n",
            "         1.0       0.79      0.54      0.64      3343\n",
            "\n",
            "    accuracy                           0.86     14527\n",
            "   macro avg       0.83      0.75      0.78     14527\n",
            "weighted avg       0.85      0.86      0.85     14527\n",
            "\n"
          ]
        }
      ]
    },
    {
      "cell_type": "code",
      "source": [
        "\n",
        "# Fit the pipeline\n",
        "classifierDTree.fit(X_train, y_train)\n",
        " \n",
        "# Predict\n",
        "y_predDTree = classifierDTree.predict(X_test)\n",
        " \n",
        "# Evaluate\n",
        "print('Model score: {model.score(X_test, y_test)}')\n",
        " \n",
        "from sklearn.metrics import classification_report \n",
        "# compute the classification report\n",
        "print(classification_report(y_test, y_predDTree))"
      ],
      "metadata": {
        "id": "oJM-ivYso7nK"
      },
      "execution_count": null,
      "outputs": []
    },
    {
      "cell_type": "code",
      "source": [
        "\n",
        "# Fit the pipeline\n",
        "classifierRanFor.fit(X_train, y_train)\n",
        " \n",
        "# Predict\n",
        "y_predRanFor = classifierRanFor.predict(X_test)\n",
        " \n",
        "# Evaluate\n",
        "print('Model score: {model.score(X_test, y_test)}')\n",
        " \n",
        "from sklearn.metrics import classification_report \n",
        "# compute the classification report\n",
        "print(classification_report(y_test, y_predRanFor))"
      ],
      "metadata": {
        "id": "d4EXSOw_o71n"
      },
      "execution_count": null,
      "outputs": []
    },
    {
      "cell_type": "markdown",
      "source": [
        "4.β. Εφαρμόστε στα εκπαιδευμένα μοντέλα από το validation set μόνο τα δείγματα χωρίς την ετικέτα τους (predict).\n"
      ],
      "metadata": {
        "id": "dkv21zidSgNX"
      }
    },
    {
      "cell_type": "markdown",
      "source": [
        "Το κάναμε παραπάνω."
      ],
      "metadata": {
        "id": "CqBcTofHCR0q"
      }
    },
    {
      "cell_type": "code",
      "source": [
        "import numpy as np\n",
        "from sklearn.metrics import f1_score\n",
        "\n",
        "knn=f1_score(y_test,y_predKnn)\n",
        "nb=f1_score(y_test,y_predNB)\n",
        "mlp=f1_score(y_test,y_predMLP)\n",
        "svc=f1_score(y_test,y_predSVC)\n",
        "logreg=f1_score(y_test,y_predLogReg)\n",
        "dtree=f1_score(y_test,y_predDTree)\n",
        "ranfor=f1_score(y_test,y_predRanFor)\n",
        "print(max(knn,nb,mlp,svc,logreg,dtree,ranfor))\n",
        "print(knn,nb,mlp,svc,logreg,dtree,ranfor)"
      ],
      "metadata": {
        "id": "3DqkKHMZQaDe",
        "execution": {
          "iopub.status.busy": "2022-12-11T08:56:35.304953Z",
          "iopub.status.idle": "2022-12-11T08:56:35.305625Z",
          "shell.execute_reply.started": "2022-12-11T08:56:35.305467Z",
          "shell.execute_reply": "2022-12-11T08:56:35.305484Z"
        },
        "trusted": true
      },
      "execution_count": null,
      "outputs": []
    },
    {
      "cell_type": "markdown",
      "source": [
        "\n",
        "4.γ. Συγκρίνετε την έξοδο του κάθε μοντέλου σε σχέση με τις αντίστοιχες ετικέτες του validation set και αξιολογήστε την επιδοσή τους χρησιμοποιώντας το F1 score.\n"
      ],
      "metadata": {
        "id": "BsvLlbPRWaa_"
      }
    },
    {
      "cell_type": "markdown",
      "source": [
        "4.δ.  Αξιολογήστε συνολικά την επίδοση των μοντέλων χρησιμοποιώντας κάποιο γράφημα (π.χ. ιστόγραμμα, bar plot) και σχολιάστε ποιο μοντέλο είχε την καλύτερη επίδοση.\n"
      ],
      "metadata": {
        "id": "F1SXqT2vWZTh"
      }
    },
    {
      "cell_type": "markdown",
      "source": [
        "Φτιάχνουμε ένα bar plot με δεδομένα τα f1-scores κάθε ταξινομητή."
      ],
      "metadata": {
        "id": "r7BjgAOwCpgx"
      }
    },
    {
      "cell_type": "code",
      "source": [
        "\n",
        "import numpy as np\n",
        "import matplotlib.pyplot as plt\n",
        " \n",
        "  \n",
        "# creating the dataset\n",
        "data = {'Knn':knn, 'NB':nb, 'MLP':mlp,'DTREE':dtree,'SVC':svc,'LOGREG':logreg,'RANFOR':ranfor}\n",
        "algo = list(data.keys())\n",
        "f1 = list(data.values())\n",
        "print(max(f1)) \n",
        "fig = plt.figure(figsize = (10, 5))\n",
        " \n",
        "# creating the bar plot\n",
        "plt.bar(algo, f1, color ='maroon',\n",
        "        width = 0.4)\n",
        " \n",
        "plt.xlabel(\"Classifiers\")\n",
        "plt.ylabel(\"F1 Scores\")\n",
        "plt.title(\"Evaluation\")\n",
        "plt.show()\n"
      ],
      "metadata": {
        "id": "UOiOlTcJjISQ"
      },
      "execution_count": null,
      "outputs": []
    },
    {
      "cell_type": "markdown",
      "source": [
        "Από το γράφημα παρατηρούμε πως το SVC έχει το μεγαλύτερο F1 score."
      ],
      "metadata": {
        "id": "ba8gsT5yxrVe"
      }
    },
    {
      "cell_type": "markdown",
      "source": [
        "### 5. Προετοιμασία αρχείου για την πρώτη υποβολή στο kaggle"
      ],
      "metadata": {
        "id": "f1ZWds7ekAsL"
      }
    },
    {
      "cell_type": "markdown",
      "source": [
        "5.α. Χρησιμοποιήστε **ΜΟΝΟ** το μοντέλο σας με την καλύτερη επίδοση για να κάνετε προβλέψεις, χρησιμοποιώντας το δοθέν σύνολο εκπαίδευσης (test set)"
      ],
      "metadata": {
        "id": "atEnldNpkSTG"
      }
    },
    {
      "cell_type": "code",
      "source": [
        "test = pd.read_csv(r'/kaggle/input/machine-learning-3403-ece-ntua-1st-lab-project/test.csv')\n",
        "test.drop(['id','Date'], axis=1, inplace=True)\n",
        "test = preprocessor.fit_transform(test)\n",
        "y_predtest= classifierSVC.predict(test)\n"
      ],
      "metadata": {
        "id": "UM0B638pkBLC"
      },
      "execution_count": null,
      "outputs": []
    },
    {
      "cell_type": "markdown",
      "source": [
        "5.β. Αποθηκεύστε τις προβλέψεις από το καλύτερο μοντέλο σας σε ένα csv αρχείο. To csv αρχείο θα πρέπει να είναι περιέχει 2 στήλες: η πρώτη στήλη να περιέχει την στήλη id του test set file και η δεύτερη στήλη τις αντίστοιχες προβλέψεις που έκανε το καλύτερα εκπαιδευμένο μοντέλο σας (βήμα 5α)."
      ],
      "metadata": {
        "id": "_WwjA-3kjFRj"
      }
    },
    {
      "cell_type": "code",
      "source": [
        "my_submission =pd.DataFrame()\n",
        "my_submission.insert(0,'id',range(1,len(y_predtest)+1))\n",
        "\n",
        "y_predtest=[int(x) for x in y_predtest]\n",
        "my_submission.insert(1,'RainTomorrow', y_predtest)\n",
        "\n",
        "\n",
        "my_submission.to_csv(\"submission.csv\", index=False)"
      ],
      "metadata": {
        "id": "Z6SPFOpZjF5l"
      },
      "execution_count": null,
      "outputs": []
    },
    {
      "cell_type": "markdown",
      "source": [
        "### 6. Βελτιστοποίηση μοντέλων με εύρεση καλύτερων υπερπαραμέτρων των ταξινομητών\n",
        "\n",
        "6.α. Για τους 7 ταξινομητές βελτιστοποιήστε την επίδοσή τους χρησιμοποιώντας αναζήτηση πλέγματος με διασταυρούμενη επικύρωση (k-fold 5)  με σκοπό την εύρεση των βέλτιστων υπερπαραμέτρων. "
      ],
      "metadata": {
        "id": "j6OoLlxrYILN"
      }
    },
    {
      "cell_type": "markdown",
      "source": [
        "Για κάθε ταξινομητή κάνουμε GridSearchCV γαι cv=5 και διαφορετικές παραμέτρους ανάλογα τον ταξινομητή."
      ],
      "metadata": {
        "id": "hmLSJIGWDCAZ"
      }
    },
    {
      "cell_type": "code",
      "source": [
        "from sklearn.linear_model import LogisticRegression\n",
        "from sklearn.neighbors import KNeighborsClassifier\n",
        "from sklearn.svm import SVC\n",
        "from sklearn.ensemble import RandomForestClassifier\n",
        "from sklearn.tree import DecisionTreeClassifier\n",
        "import numpy as np\n",
        "\n",
        "\n",
        "from sklearn.model_selection import GridSearchCV\n",
        "\n",
        "grid_paramsK = { 'n_neighbors' : [1,3,5,7],\n",
        "             'weights' : ['uniform','distance'],\n",
        "             'metric' : ['euclidean','manhattan']}\n",
        " #Create grid search \n",
        "gridK = GridSearchCV(KNeighborsClassifier(), grid_paramsK, cv=5, verbose=0,n_jobs=-1)\n",
        "\n",
        "import warnings\n",
        "warnings.filterwarnings(\"ignore\")\n",
        "from sklearn.exceptions import FitFailedWarning \n",
        "\n",
        " #Fit grid search\n",
        "best_modelK = gridK.fit(X, y)\n",
        "resultsK = pd.DataFrame(gridK.cv_results_)\n",
        "# Access the best set of parameters\n",
        "best_paramsK = gridK.best_params_\n",
        "print(best_paramsK)\n",
        "\n"
      ],
      "metadata": {
        "id": "FK_zetZLlOeV",
        "colab": {
          "base_uri": "https://localhost:8080/"
        },
        "outputId": "1c0b6dcb-8886-48d0-9dc0-8c8a614de03a"
      },
      "execution_count": 14,
      "outputs": [
        {
          "output_type": "stream",
          "name": "stdout",
          "text": [
            "{'metric': 'euclidean', 'n_neighbors': 7, 'weights': 'uniform'}\n",
            "KNeighborsClassifier(metric='euclidean', n_neighbors=7)\n"
          ]
        }
      ]
    },
    {
      "cell_type": "code",
      "source": [],
      "metadata": {
        "id": "Au_awULjhGX2"
      },
      "execution_count": null,
      "outputs": []
    },
    {
      "cell_type": "code",
      "source": [
        "\n",
        "\n",
        "\n",
        "from sklearn.model_selection import GridSearchCV\n",
        "import numpy as np\n",
        "grid_paramLR = [    \n",
        "    {'penalty' : ['l1', 'l2'],\n",
        "    'C' : np.logspace(0, 4, 10),\n",
        "     }\n",
        "]\n",
        "# Create grid search \n",
        "gridLR = GridSearchCV(LogisticRegression(), grid_paramLR, cv=5, verbose=0)\n",
        "\n",
        " \n",
        "\n",
        "# Fit grid search\n",
        "best_modelLR = gridLR.fit(X, y)\n",
        "resultsLR = pd.DataFrame(gridLR.cv_results_)\n",
        "\n",
        "# Access the best set of parameters\n",
        "best_paramsLR = gridLR.best_params_\n",
        "print(best_paramsLR)\n",
        "\n"
      ],
      "metadata": {
        "id": "074gpbmBJWo3",
        "colab": {
          "base_uri": "https://localhost:8080/"
        },
        "outputId": "032ac9ad-eaa7-423b-f9c2-13ee6327c399"
      },
      "execution_count": 15,
      "outputs": [
        {
          "output_type": "stream",
          "name": "stdout",
          "text": [
            "{'C': 1.0, 'penalty': 'l2'}\n",
            "LogisticRegression()\n"
          ]
        }
      ]
    },
    {
      "cell_type": "code",
      "source": [
        "grid_paramRF = [    \n",
        "    {'n_estimators': range(10, 500, 50),\n",
        "    'max_depth': range(1,10,2),\n",
        "     }\n",
        "]\n",
        "# Create grid search \n",
        "gridRF = GridSearchCV(RandomForestClassifier(), grid_paramRF, cv=5, verbose=0, n_jobs=-1)\n",
        "\n",
        "\n",
        "# Fit grid search\n",
        "best_modelRF = gridRF.fit(X, y)\n",
        "resultsLR = pd.DataFrame(gridRF.cv_results_)\n",
        "\n",
        "# Access the best set of parameters\n",
        "best_paramsRF = gridRF.best_params_\n",
        "print(best_paramsRF)\n",
        "\n"
      ],
      "metadata": {
        "colab": {
          "base_uri": "https://localhost:8080/"
        },
        "id": "ZdTdfw_AU3TU",
        "outputId": "cc5f37f9-588a-4659-80e3-60910f2a0b2d"
      },
      "execution_count": 16,
      "outputs": [
        {
          "output_type": "stream",
          "name": "stdout",
          "text": [
            "{'max_depth': 9, 'n_estimators': 410}\n",
            "RandomForestClassifier(max_depth=9, n_estimators=410)\n"
          ]
        }
      ]
    },
    {
      "cell_type": "code",
      "source": [
        "from sklearn.experimental import enable_halving_search_cv\n",
        "from sklearn.model_selection import HalvingGridSearchCV\n",
        "\n",
        "grid_paramS = [    \n",
        "    {'kernel': ['rbf','linear'],\n",
        "    'gamma': [1e-3, 1e-4],\n",
        "     'C': [1,100,1000],\n",
        "     }\n",
        "]\n",
        "# Create grid search \n",
        "gridS = HalvingGridSearchCV(SVC(), grid_paramS, cv=5, verbose=0, n_jobs=-1)\n",
        "\n",
        "\n",
        "\n",
        "# Fit grid search\n",
        "best_modelS = gridS.fit(X, y)\n",
        "resultsS = pd.DataFrame(gridS.cv_results_)\n",
        "\n",
        "# Access the best set of parameters\n",
        "best_paramsS = gridS.best_params_\n",
        "print(best_paramsS)\n",
        "\n"
      ],
      "metadata": {
        "colab": {
          "base_uri": "https://localhost:8080/"
        },
        "id": "0Ljl2VseWQvO",
        "outputId": "555ea864-5a16-4247-dee3-66cac0602178"
      },
      "execution_count": 29,
      "outputs": [
        {
          "output_type": "stream",
          "name": "stdout",
          "text": [
            "{'C': 1, 'gamma': 0.001, 'kernel': 'rbf'}\n",
            "RandomForestClassifier(max_depth=9, n_estimators=410)\n"
          ]
        }
      ]
    },
    {
      "cell_type": "code",
      "source": [
        "grid_paramNB = [       \n",
        "    {'var_smoothing': np.logspace(0,-9, num=100)}\n",
        "     \n",
        "]\n",
        "# Create grid search \n",
        "gridNB = GridSearchCV(GaussianNB(), grid_paramNB, cv=5, verbose=0, n_jobs=-1)\n",
        "\n",
        "\n",
        "\n",
        "# Fit grid search\n",
        "best_modelNB = gridNB.fit(X, y)\n",
        "resultsNB = pd.DataFrame(gridNB.cv_results_)\n",
        "\n",
        "# Access the best set of parameters\n",
        "best_paramsNB = gridNB.best_params_\n",
        "print(best_paramsNB)\n",
        "\n",
        "\n"
      ],
      "metadata": {
        "colab": {
          "base_uri": "https://localhost:8080/"
        },
        "id": "Z9A3ahCJb4x1",
        "outputId": "4755f96e-f551-42df-95fd-36c2fc360a44"
      },
      "execution_count": 17,
      "outputs": [
        {
          "output_type": "stream",
          "name": "stdout",
          "text": [
            "{'var_smoothing': 1.0}\n",
            "GaussianNB(var_smoothing=1.0)\n"
          ]
        }
      ]
    },
    {
      "cell_type": "code",
      "source": [
        "grid_paramDT = [ {      \n",
        "    \n",
        "    'max_depth': [2, 3, 5],\n",
        "    'min_samples_leaf': [5, 10, 20],\n",
        "    'criterion': [\"gini\", \"entropy\"]\n",
        "}\n",
        "]\n",
        "# Create grid search \n",
        "gridDT = GridSearchCV(DecisionTreeClassifier(), grid_paramDT, cv=5, verbose=0)\n",
        "\n",
        "\n",
        "\n",
        "# Fit grid search\n",
        "best_modelDT = gridDT.fit(X, y)\n",
        "resultsDT = pd.DataFrame(gridDT.cv_results_)\n",
        "\n",
        "# Access the best set of parameters\n",
        "best_paramsDT = gridDT.best_params_\n",
        "print(best_paramsDT)\n",
        "\n",
        "\n"
      ],
      "metadata": {
        "colab": {
          "base_uri": "https://localhost:8080/"
        },
        "id": "EsB514fTdfUF",
        "outputId": "48140dc1-1150-4343-b7b9-a92209d5ebc1"
      },
      "execution_count": 18,
      "outputs": [
        {
          "output_type": "stream",
          "name": "stdout",
          "text": [
            "{'criterion': 'entropy', 'max_depth': 5, 'min_samples_leaf': 20}\n",
            "DecisionTreeClassifier(criterion='entropy', max_depth=5, min_samples_leaf=20)\n"
          ]
        }
      ]
    },
    {
      "cell_type": "code",
      "source": [
        "grid_paramM = [ {      \n",
        "    \n",
        "                 'hidden_layer_sizes': [3, 5],\n",
        "                 'alpha': [1e-3, 1e-5],\n",
        "                'max_iter': [500, 600]\n",
        "}\n",
        "]\n",
        "# Create grid search \n",
        "gridM = GridSearchCV(MLPClassifier(), grid_paramM, cv=5, verbose=0, n_jobs=-1)\n",
        "\n",
        "\n",
        "\n",
        "# Fit grid search\n",
        "best_modelM = gridM.fit(X, y)\n",
        "resultsM = pd.DataFrame(gridM.cv_results_)\n",
        "\n",
        "# Access the best set of parameters\n",
        "best_paramsM = gridM.best_params_\n",
        "print(best_paramsM)\n",
        "\n"
      ],
      "metadata": {
        "colab": {
          "base_uri": "https://localhost:8080/"
        },
        "id": "tWx158csrOqG",
        "outputId": "90e8f3c2-5ed1-4c3b-8e72-ab1d85cb9d35"
      },
      "execution_count": 19,
      "outputs": [
        {
          "output_type": "stream",
          "name": "stdout",
          "text": [
            "{'alpha': 0.001, 'hidden_layer_sizes': 3, 'max_iter': 600}\n",
            "MLPClassifier(alpha=0.001, hidden_layer_sizes=3, max_iter=600)\n"
          ]
        }
      ]
    },
    {
      "cell_type": "markdown",
      "source": [
        "6.β. Εφαρμόστε στα εκπαιδευμένα μοντέλα από το validation set μόνο τα δείγματα χωρίς την ετικέτα τους (predict).\n"
      ],
      "metadata": {
        "id": "KD2jGJgUloMW"
      }
    },
    {
      "cell_type": "code",
      "source": [
        "y_predsK = best_modelK.predict(X_test)\n",
        "y_predsLR = best_modelLR.predict(X_test)\n",
        "y_predsMLP = best_modelM.predict(X_test)\n",
        "y_predsRF = best_modelRF.predict(X_test)\n",
        "y_predsS = best_modelS.predict(X_test)\n",
        "y_predsNB = best_modelNB.predict(X_test)\n",
        "y_predsDT = best_modelDT.predict(X_test)\n",
        "\n",
        "\n",
        "# Evaluate\n",
        "print('Model score: {best_modelK.score(X_test, y_test)}')\n",
        "print('Model score: {best_modelLR.score(X_test, y_test)}')\n",
        "print('Model score: {best_modelM.score(X_test, y_test)}')\n",
        "print('Model score: {best_modelRF.score(X_test, y_test)}')\n",
        "print('Model score: {best_modelS.score(X_test, y_test)}')\n",
        "print('Model score: {best_modelNB.score(X_test, y_test)}')\n",
        "print('Model score: {best_modelDT.score(X_test, y_test)}')\n",
        " \n",
        "from sklearn.metrics import classification_report \n",
        "# compute the classification report\n",
        "print(classification_report(y_test, y_predsK))\n",
        "print(classification_report(y_test, y_predsLR))\n",
        "print(classification_report(y_test, y_predsMLP))\n",
        "print(classification_report(y_test, y_predsRF))\n",
        "print(classification_report(y_test, y_predsS))\n",
        "print(classification_report(y_test, y_predsNB))\n",
        "print(classification_report(y_test, y_predsDT))"
      ],
      "metadata": {
        "id": "ANPd125TloMW",
        "colab": {
          "base_uri": "https://localhost:8080/"
        },
        "outputId": "d73b84c0-3f5a-4c23-f5b7-b5980aa97b94"
      },
      "execution_count": 30,
      "outputs": [
        {
          "output_type": "stream",
          "name": "stdout",
          "text": [
            "Model score: {best_modelK.score(X_test, y_test)}\n",
            "Model score: {best_modelLR.score(X_test, y_test)}\n",
            "Model score: {best_modelM.score(X_test, y_test)}\n",
            "Model score: {best_modelRF.score(X_test, y_test)}\n",
            "Model score: {best_modelS.score(X_test, y_test)}\n",
            "Model score: {best_modelNB.score(X_test, y_test)}\n",
            "Model score: {best_modelDT.score(X_test, y_test)}\n",
            "              precision    recall  f1-score   support\n",
            "\n",
            "         0.0       0.89      0.96      0.92     11184\n",
            "         1.0       0.81      0.59      0.68      3343\n",
            "\n",
            "    accuracy                           0.87     14527\n",
            "   macro avg       0.85      0.77      0.80     14527\n",
            "weighted avg       0.87      0.87      0.86     14527\n",
            "\n",
            "              precision    recall  f1-score   support\n",
            "\n",
            "         0.0       0.87      0.95      0.91     11184\n",
            "         1.0       0.75      0.54      0.63      3343\n",
            "\n",
            "    accuracy                           0.85     14527\n",
            "   macro avg       0.81      0.75      0.77     14527\n",
            "weighted avg       0.85      0.85      0.84     14527\n",
            "\n",
            "              precision    recall  f1-score   support\n",
            "\n",
            "         0.0       0.88      0.95      0.91     11184\n",
            "         1.0       0.78      0.56      0.65      3343\n",
            "\n",
            "    accuracy                           0.86     14527\n",
            "   macro avg       0.83      0.76      0.78     14527\n",
            "weighted avg       0.86      0.86      0.85     14527\n",
            "\n",
            "              precision    recall  f1-score   support\n",
            "\n",
            "         0.0       0.85      0.98      0.91     11184\n",
            "         1.0       0.85      0.44      0.58      3343\n",
            "\n",
            "    accuracy                           0.85     14527\n",
            "   macro avg       0.85      0.71      0.75     14527\n",
            "weighted avg       0.85      0.85      0.84     14527\n",
            "\n",
            "              precision    recall  f1-score   support\n",
            "\n",
            "         0.0       0.86      0.96      0.91     11184\n",
            "         1.0       0.77      0.48      0.59      3343\n",
            "\n",
            "    accuracy                           0.85     14527\n",
            "   macro avg       0.82      0.72      0.75     14527\n",
            "weighted avg       0.84      0.85      0.83     14527\n",
            "\n",
            "              precision    recall  f1-score   support\n",
            "\n",
            "         0.0       0.86      0.92      0.89     11184\n",
            "         1.0       0.65      0.50      0.57      3343\n",
            "\n",
            "    accuracy                           0.82     14527\n",
            "   macro avg       0.76      0.71      0.73     14527\n",
            "weighted avg       0.81      0.82      0.82     14527\n",
            "\n",
            "              precision    recall  f1-score   support\n",
            "\n",
            "         0.0       0.86      0.96      0.90     11184\n",
            "         1.0       0.76      0.46      0.57      3343\n",
            "\n",
            "    accuracy                           0.84     14527\n",
            "   macro avg       0.81      0.71      0.74     14527\n",
            "weighted avg       0.83      0.84      0.83     14527\n",
            "\n"
          ]
        }
      ]
    },
    {
      "cell_type": "markdown",
      "source": [
        "\n",
        "6.γ. Συγκρίνετε την έξοδο του κάθε μοντέλου σε σχέση με τις αντίστοιχες ετικέτες του validation set και αξιολογήστε την επιδοσή τους χρησιμοποιώντας το F1 score.\n"
      ],
      "metadata": {
        "id": "hj_7xTZ-loMW"
      }
    },
    {
      "cell_type": "code",
      "source": [
        "import numpy as np\n",
        "from sklearn.metrics import f1_score\n",
        "\n",
        "knn=f1_score(y_test,y_predsK)\n",
        "nb=f1_score(y_test,y_predsNB)\n",
        "mlp=f1_score(y_test,y_predsMLP)\n",
        "svc=f1_score(y_test,y_predsS)\n",
        "logreg=f1_score(y_test,y_predsLR)\n",
        "dtree=f1_score(y_test,y_predsDT)\n",
        "ranfor=f1_score(y_test,y_predsRF)\n",
        "print(max(knn,nb,mlp,svc,logreg,dtree,ranfor))"
      ],
      "metadata": {
        "id": "YsJB5GanloMW",
        "colab": {
          "base_uri": "https://localhost:8080/"
        },
        "outputId": "767bee5c-ea49-4470-e616-899652896f26"
      },
      "execution_count": 32,
      "outputs": [
        {
          "output_type": "stream",
          "name": "stdout",
          "text": [
            "0.6783422923530432\n"
          ]
        }
      ]
    },
    {
      "cell_type": "markdown",
      "source": [
        "6.δ.  Αξιολογήστε συνολικά την επίδοση των μοντέλων χρησιμοποιώντας κάποιο γράφημα (π.χ. ιστόγραμμα, bar plot) και σχολιάστε ποιο μοντέλο είχε την καλύτερη επίδοση.\n"
      ],
      "metadata": {
        "id": "l6vs5gOQloMW"
      }
    },
    {
      "cell_type": "markdown",
      "source": [
        "Όπως και πριν φτιάχνουμε ένα bar plot και απεικονίζουμε τις τιμές των f1-scores ανά ταξινομητή όπου κάθε ταξινομητής έχει τις καλύτερες παραμέτρους που βρήκαμε."
      ],
      "metadata": {
        "id": "34VB0C8WDra1"
      }
    },
    {
      "cell_type": "code",
      "source": [
        " import matplotlib.pyplot as plt \n",
        "# creating the dataset\n",
        "data = {'Knn':knn, 'NB':nb, 'MLP':mlp,'DTREE':dtree,'SVC':svc,'LOGREG':logreg,'RANFOR':ranfor}\n",
        "algo = list(data.keys())\n",
        "f1 = list(data.values())\n",
        "print(max(f1)) \n",
        "fig = plt.figure(figsize = (10, 5))\n",
        " \n",
        "# creating the bar plot\n",
        "plt.bar(algo, f1, color ='maroon',\n",
        "        width = 0.4)\n",
        " \n",
        "plt.xlabel(\"Classifiers\")\n",
        "plt.ylabel(\"F1 Scores\")\n",
        "plt.title(\"Evaluation\")\n",
        "plt.show()\n"
      ],
      "metadata": {
        "id": "EsAWlUCUloMX",
        "colab": {
          "base_uri": "https://localhost:8080/",
          "height": 505
        },
        "outputId": "db628a1c-af2b-4b72-a350-184f2bb504fb"
      },
      "execution_count": 39,
      "outputs": [
        {
          "output_type": "stream",
          "name": "stdout",
          "text": [
            "0.6783422923530432\n"
          ]
        },
        {
          "output_type": "display_data",
          "data": {
            "text/plain": [
              "<Figure size 1000x500 with 1 Axes>"
            ],
            "image/png": "[encoded data removed]"
          },
          "metadata": {}
        }
      ]
    },
    {
      "cell_type": "markdown",
      "source": [
        "Παρατηρούμε πως ο ταξινομητής KNeighborsClassifier(metric='euclidean', n_neighbors=7) έχει με διαφορά το καλύτερο αποτέλεσμα."
      ],
      "metadata": {
        "id": "UnTbbm-YEFtc"
      }
    },
    {
      "cell_type": "markdown",
      "source": [
        "### 7. Προετοιμασία αρχείου για τη δεύτερη υποβολή στο kaggle"
      ],
      "metadata": {
        "id": "DrWizICNmItV"
      }
    },
    {
      "cell_type": "markdown",
      "source": [
        "7.α. Χρησιμοποιήστε **ΜΟΝΟ** το μοντέλο σας με την καλύτερη επίδοση για να κάνετε προβλέψεις χρησιμοποιώντας το δοθέν σύνολο εκπαίδευσης (test set)"
      ],
      "metadata": {
        "id": "GzoRElvAmItV"
      }
    },
    {
      "cell_type": "code",
      "source": [
        "test = pd.read_csv('test.csv')\n",
        "test.drop(['id','Date'], axis=1, inplace=True)\n",
        "test = preprocessor.fit_transform(test)\n",
        "y_predstest = best_modelK.predict(test)\n"
      ],
      "metadata": {
        "id": "HlEBQIOnmItV",
        "colab": {
          "base_uri": "https://localhost:8080/"
        },
        "outputId": "d6787dcf-5c2b-44a9-d256-8ca108c1630d"
      },
      "execution_count": 37,
      "outputs": [
        {
          "output_type": "stream",
          "name": "stdout",
          "text": [
            "        id  RainTomorrow\n",
            "0        1             0\n",
            "1        2             0\n",
            "2        3             0\n",
            "3        4             0\n",
            "4        5             0\n",
            "...    ...           ...\n",
            "9674  9675             0\n",
            "9675  9676             0\n",
            "9676  9677             0\n",
            "9677  9678             0\n",
            "9678  9679             0\n",
            "\n",
            "[9679 rows x 2 columns]\n"
          ]
        }
      ]
    },
    {
      "cell_type": "markdown",
      "source": [
        "7.β. Αποθηκεύστε τις προβλέψεις από το καλύτερο μοντέλο σας σε ένα csv αρχείο. To csv αρχείο θα πρέπει να είναι περιέχει 2 στήλες: η πρώτη στήλη να περιέχει την στήλη id του test set file και η δεύτερη στήλη τις αντίστοιχες προβλέψεις που έκανε το καλύτερα εκπαιδευμένο μοντέλο σας (βήμα 7α)."
      ],
      "metadata": {
        "id": "TA2fuBn9mItW"
      }
    },
    {
      "cell_type": "code",
      "source": [
        "my_submission =pd.DataFrame()\n",
        "my_submission.insert(0,'id',range(1,len(y_predstest)+1))\n",
        "\n",
        "y_predstest=[int(x) for x in y_predstest]\n",
        "my_submission.insert(1,'RainTomorrow', y_predstest)\n",
        "print(my_submission)\n",
        "\n",
        "my_submission.to_csv(\"submission.csv\", index=False)"
      ],
      "metadata": {
        "id": "9A1YaimKmItW",
        "colab": {
          "base_uri": "https://localhost:8080/"
        },
        "outputId": "cb437638-d543-4892-9f9f-8145a7213983"
      },
      "execution_count": 40,
      "outputs": [
        {
          "output_type": "stream",
          "name": "stdout",
          "text": [
            "        id  RainTomorrow\n",
            "0        1             0\n",
            "1        2             0\n",
            "2        3             0\n",
            "3        4             0\n",
            "4        5             0\n",
            "...    ...           ...\n",
            "9674  9675             0\n",
            "9675  9676             0\n",
            "9676  9677             0\n",
            "9677  9678             0\n",
            "9678  9679             0\n",
            "\n",
            "[9679 rows x 2 columns]\n"
          ]
        }
      ]
    }
  ]
}